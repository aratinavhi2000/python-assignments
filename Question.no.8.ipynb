{
 "cells": [
  {
   "cell_type": "markdown",
   "id": "6c7981ea",
   "metadata": {},
   "source": [
    "## Question 8 -\n",
    "Using the data from Question 5, write code the analyze the data and answer the following questions Note -\n",
    "\n",
    "1.Draw plots to demonstrate the analysis for the following questions and better visualizations\n",
    "\n",
    "2.Write code comments wherever required for code understanding\n",
    "\n",
    "Insights to be drawn -\n",
    "\n",
    "Get all the overall ratings for each season and using plots compare the ratings for all the seasons, like season 1 ratings, season 2, and so on.\n",
    "\n",
    "Get all the episode names, whose average rating is more than 8 for every season\n",
    "\n",
    "Get all the episode names that aired before May 2019\n",
    "\n",
    "Get the episode name from each season with the highest and lowest rating\n",
    "\n",
    "Get the summary for the most popular ( ratings ) episode in every season\n",
    "\n",
    "​"
   ]
  },
  {
   "cell_type": "code",
   "execution_count": 1,
   "id": "40500911",
   "metadata": {},
   "outputs": [],
   "source": [
    "#imprt necessary libraries and tools\n",
    "import warnings\n",
    "import numpy as np\n",
    "import pandas as pd\n",
    "import json\n",
    "import requests\n",
    "import seaborn as sns\n",
    "warnings.filterwarnings('ignore')\n",
    "import matplotlib.pyplot as plt\n",
    "%matplotlib inline"
   ]
  },
  {
   "cell_type": "code",
   "execution_count": 2,
   "id": "c97b1943",
   "metadata": {},
   "outputs": [],
   "source": [
    "#converting json to csv\n",
    "def enter_data(dataset):\n",
    "    response=requests.get(dataset)\n",
    "    data=response.json()\n",
    "    episodes_data = data[\"_embedded\"][\"episodes\"]\n",
    "    df=pd.DataFrame(episodes_data)\n",
    "    df_cv=df.to_csv('episode.csv',index=False)\n",
    "    return df_cv"
   ]
  },
  {
   "cell_type": "code",
   "execution_count": 3,
   "id": "1f82b3f8",
   "metadata": {},
   "outputs": [],
   "source": [
    "enter_data('http://api.tvmaze.com/singlesearch/shows?q=westworld&embed=episodes')"
   ]
  },
  {
   "cell_type": "code",
   "execution_count": 4,
   "id": "6c1a1729",
   "metadata": {},
   "outputs": [
    {
     "data": {
      "text/html": [
       "<div>\n",
       "<style scoped>\n",
       "    .dataframe tbody tr th:only-of-type {\n",
       "        vertical-align: middle;\n",
       "    }\n",
       "\n",
       "    .dataframe tbody tr th {\n",
       "        vertical-align: top;\n",
       "    }\n",
       "\n",
       "    .dataframe thead th {\n",
       "        text-align: right;\n",
       "    }\n",
       "</style>\n",
       "<table border=\"1\" class=\"dataframe\">\n",
       "  <thead>\n",
       "    <tr style=\"text-align: right;\">\n",
       "      <th></th>\n",
       "      <th>id</th>\n",
       "      <th>url</th>\n",
       "      <th>name</th>\n",
       "      <th>season</th>\n",
       "      <th>number</th>\n",
       "      <th>type</th>\n",
       "      <th>airdate</th>\n",
       "      <th>airtime</th>\n",
       "      <th>airstamp</th>\n",
       "      <th>runtime</th>\n",
       "      <th>rating</th>\n",
       "      <th>image</th>\n",
       "      <th>summary</th>\n",
       "      <th>_links</th>\n",
       "    </tr>\n",
       "  </thead>\n",
       "  <tbody>\n",
       "    <tr>\n",
       "      <th>0</th>\n",
       "      <td>869671</td>\n",
       "      <td>https://www.tvmaze.com/episodes/869671/westwor...</td>\n",
       "      <td>The Original</td>\n",
       "      <td>1</td>\n",
       "      <td>1</td>\n",
       "      <td>regular</td>\n",
       "      <td>2016-10-02</td>\n",
       "      <td>21:00</td>\n",
       "      <td>2016-10-03T01:00:00+00:00</td>\n",
       "      <td>68</td>\n",
       "      <td>{'average': 8}</td>\n",
       "      <td>{'medium': 'https://static.tvmaze.com/uploads/...</td>\n",
       "      <td>&lt;p&gt;A woman named Dolores is a free spirit in t...</td>\n",
       "      <td>{'self': {'href': 'https://api.tvmaze.com/epis...</td>\n",
       "    </tr>\n",
       "    <tr>\n",
       "      <th>1</th>\n",
       "      <td>911201</td>\n",
       "      <td>https://www.tvmaze.com/episodes/911201/westwor...</td>\n",
       "      <td>Chestnut</td>\n",
       "      <td>1</td>\n",
       "      <td>2</td>\n",
       "      <td>regular</td>\n",
       "      <td>2016-10-09</td>\n",
       "      <td>21:00</td>\n",
       "      <td>2016-10-10T01:00:00+00:00</td>\n",
       "      <td>60</td>\n",
       "      <td>{'average': 7.7}</td>\n",
       "      <td>{'medium': 'https://static.tvmaze.com/uploads/...</td>\n",
       "      <td>&lt;p&gt;Bernard suspects that someone is sabotaging...</td>\n",
       "      <td>{'self': {'href': 'https://api.tvmaze.com/epis...</td>\n",
       "    </tr>\n",
       "    <tr>\n",
       "      <th>2</th>\n",
       "      <td>911204</td>\n",
       "      <td>https://www.tvmaze.com/episodes/911204/westwor...</td>\n",
       "      <td>The Stray</td>\n",
       "      <td>1</td>\n",
       "      <td>3</td>\n",
       "      <td>regular</td>\n",
       "      <td>2016-10-16</td>\n",
       "      <td>21:00</td>\n",
       "      <td>2016-10-17T01:00:00+00:00</td>\n",
       "      <td>60</td>\n",
       "      <td>{'average': 7.6}</td>\n",
       "      <td>{'medium': 'https://static.tvmaze.com/uploads/...</td>\n",
       "      <td>&lt;p&gt;Bernard continues to investigate Dolores' s...</td>\n",
       "      <td>{'self': {'href': 'https://api.tvmaze.com/epis...</td>\n",
       "    </tr>\n",
       "    <tr>\n",
       "      <th>3</th>\n",
       "      <td>911205</td>\n",
       "      <td>https://www.tvmaze.com/episodes/911205/westwor...</td>\n",
       "      <td>Dissonance Theory</td>\n",
       "      <td>1</td>\n",
       "      <td>4</td>\n",
       "      <td>regular</td>\n",
       "      <td>2016-10-23</td>\n",
       "      <td>21:00</td>\n",
       "      <td>2016-10-24T01:00:00+00:00</td>\n",
       "      <td>60</td>\n",
       "      <td>{'average': 7.9}</td>\n",
       "      <td>{'medium': 'https://static.tvmaze.com/uploads/...</td>\n",
       "      <td>&lt;p&gt;While Dolores joins William and Logan on th...</td>\n",
       "      <td>{'self': {'href': 'https://api.tvmaze.com/epis...</td>\n",
       "    </tr>\n",
       "    <tr>\n",
       "      <th>4</th>\n",
       "      <td>927174</td>\n",
       "      <td>https://www.tvmaze.com/episodes/927174/westwor...</td>\n",
       "      <td>Contrapasso</td>\n",
       "      <td>1</td>\n",
       "      <td>5</td>\n",
       "      <td>regular</td>\n",
       "      <td>2016-10-30</td>\n",
       "      <td>21:00</td>\n",
       "      <td>2016-10-31T01:00:00+00:00</td>\n",
       "      <td>60</td>\n",
       "      <td>{'average': 8}</td>\n",
       "      <td>{'medium': 'https://static.tvmaze.com/uploads/...</td>\n",
       "      <td>&lt;p&gt;Dolores takes the first step on her path of...</td>\n",
       "      <td>{'self': {'href': 'https://api.tvmaze.com/epis...</td>\n",
       "    </tr>\n",
       "  </tbody>\n",
       "</table>\n",
       "</div>"
      ],
      "text/plain": [
       "       id                                                url  \\\n",
       "0  869671  https://www.tvmaze.com/episodes/869671/westwor...   \n",
       "1  911201  https://www.tvmaze.com/episodes/911201/westwor...   \n",
       "2  911204  https://www.tvmaze.com/episodes/911204/westwor...   \n",
       "3  911205  https://www.tvmaze.com/episodes/911205/westwor...   \n",
       "4  927174  https://www.tvmaze.com/episodes/927174/westwor...   \n",
       "\n",
       "                name  season  number     type     airdate airtime  \\\n",
       "0       The Original       1       1  regular  2016-10-02   21:00   \n",
       "1           Chestnut       1       2  regular  2016-10-09   21:00   \n",
       "2          The Stray       1       3  regular  2016-10-16   21:00   \n",
       "3  Dissonance Theory       1       4  regular  2016-10-23   21:00   \n",
       "4        Contrapasso       1       5  regular  2016-10-30   21:00   \n",
       "\n",
       "                    airstamp  runtime            rating  \\\n",
       "0  2016-10-03T01:00:00+00:00       68    {'average': 8}   \n",
       "1  2016-10-10T01:00:00+00:00       60  {'average': 7.7}   \n",
       "2  2016-10-17T01:00:00+00:00       60  {'average': 7.6}   \n",
       "3  2016-10-24T01:00:00+00:00       60  {'average': 7.9}   \n",
       "4  2016-10-31T01:00:00+00:00       60    {'average': 8}   \n",
       "\n",
       "                                               image  \\\n",
       "0  {'medium': 'https://static.tvmaze.com/uploads/...   \n",
       "1  {'medium': 'https://static.tvmaze.com/uploads/...   \n",
       "2  {'medium': 'https://static.tvmaze.com/uploads/...   \n",
       "3  {'medium': 'https://static.tvmaze.com/uploads/...   \n",
       "4  {'medium': 'https://static.tvmaze.com/uploads/...   \n",
       "\n",
       "                                             summary  \\\n",
       "0  <p>A woman named Dolores is a free spirit in t...   \n",
       "1  <p>Bernard suspects that someone is sabotaging...   \n",
       "2  <p>Bernard continues to investigate Dolores' s...   \n",
       "3  <p>While Dolores joins William and Logan on th...   \n",
       "4  <p>Dolores takes the first step on her path of...   \n",
       "\n",
       "                                              _links  \n",
       "0  {'self': {'href': 'https://api.tvmaze.com/epis...  \n",
       "1  {'self': {'href': 'https://api.tvmaze.com/epis...  \n",
       "2  {'self': {'href': 'https://api.tvmaze.com/epis...  \n",
       "3  {'self': {'href': 'https://api.tvmaze.com/epis...  \n",
       "4  {'self': {'href': 'https://api.tvmaze.com/epis...  "
      ]
     },
     "execution_count": 4,
     "metadata": {},
     "output_type": "execute_result"
    }
   ],
   "source": [
    "#importing dataset\n",
    "df=pd.read_csv('episode.csv')\n",
    "df.head()"
   ]
  },
  {
   "cell_type": "code",
   "execution_count": 5,
   "id": "ce26ba6b",
   "metadata": {},
   "outputs": [
    {
     "data": {
      "text/plain": [
       "id          0\n",
       "url         0\n",
       "name        0\n",
       "season      0\n",
       "number      0\n",
       "type        0\n",
       "airdate     0\n",
       "airtime     0\n",
       "airstamp    0\n",
       "runtime     0\n",
       "rating      0\n",
       "image       0\n",
       "summary     0\n",
       "_links      0\n",
       "dtype: int64"
      ]
     },
     "execution_count": 5,
     "metadata": {},
     "output_type": "execute_result"
    }
   ],
   "source": [
    "df_rate=df.copy()\n",
    "df_rate.isna().sum()"
   ]
  },
  {
   "cell_type": "code",
   "execution_count": 6,
   "id": "d9d280fa",
   "metadata": {},
   "outputs": [],
   "source": [
    "#split the rate for better readable format\n",
    "rr=[]\n",
    "for i in df_rate['rating']:\n",
    "    sp=i.split(':')\n",
    "    re=sp[1]\n",
    "    rating=re.split('}')\n",
    "    rating=rating[0]\n",
    "    rr.append(rating)\n",
    "df_rate['avg_rating']=rr\n",
    "df_rate['avg_rating']=df_rate['avg_rating'].astype(float)"
   ]
  },
  {
   "cell_type": "code",
   "execution_count": 7,
   "id": "52c747f3",
   "metadata": {},
   "outputs": [
    {
     "name": "stdout",
     "output_type": "stream",
     "text": [
      "<class 'pandas.core.frame.DataFrame'>\n",
      "RangeIndex: 36 entries, 0 to 35\n",
      "Data columns (total 15 columns):\n",
      " #   Column      Non-Null Count  Dtype  \n",
      "---  ------      --------------  -----  \n",
      " 0   id          36 non-null     int64  \n",
      " 1   url         36 non-null     object \n",
      " 2   name        36 non-null     object \n",
      " 3   season      36 non-null     int64  \n",
      " 4   number      36 non-null     int64  \n",
      " 5   type        36 non-null     object \n",
      " 6   airdate     36 non-null     object \n",
      " 7   airtime     36 non-null     object \n",
      " 8   airstamp    36 non-null     object \n",
      " 9   runtime     36 non-null     int64  \n",
      " 10  rating      36 non-null     object \n",
      " 11  image       36 non-null     object \n",
      " 12  summary     36 non-null     object \n",
      " 13  _links      36 non-null     object \n",
      " 14  avg_rating  36 non-null     float64\n",
      "dtypes: float64(1), int64(4), object(10)\n",
      "memory usage: 4.3+ KB\n"
     ]
    }
   ],
   "source": [
    "df_rate.info()"
   ]
  },
  {
   "cell_type": "code",
   "execution_count": 8,
   "id": "844cfa78",
   "metadata": {},
   "outputs": [
    {
     "data": {
      "image/png": "[encoded data removed]",
      "text/plain": [
       "<Figure size 1440x360 with 1 Axes>"
      ]
     },
     "metadata": {
      "needs_background": "light"
     },
     "output_type": "display_data"
    }
   ],
   "source": [
    "#plotting avg_rating vs season\n",
    "axs,fig=plt.subplots(1,1,figsize=(20,5))\n",
    "plt.subplot(111)\n",
    "sns.countplot(data=df_rate, x= 'avg_rating', hue='season')\n",
    "plt.show()"
   ]
  },
  {
   "cell_type": "code",
   "execution_count": 10,
   "id": "c932dd7f",
   "metadata": {},
   "outputs": [
    {
     "data": {
      "image/png": "[encoded data removed]",
      "text/plain": [
       "<Figure size 1440x360 with 1 Axes>"
      ]
     },
     "metadata": {
      "needs_background": "light"
     },
     "output_type": "display_data"
    }
   ],
   "source": [
    "#for season 1\n",
    "df_season1=df_rate[df_rate['season']==1]\n",
    "axs,fig=plt.subplots(1,1,figsize=(20,5))\n",
    "plt.subplot(111)\n",
    "sns.countplot(data=df_season1, x= 'avg_rating')\n",
    "plt.xlabel(\"Average Rating for season 1\", size=14) \n",
    "plt.ylabel(\"Count\", size=14)\n",
    "plt.xticks(rotation=0)\n",
    "plt.show()"
   ]
  },
  {
   "cell_type": "code",
   "execution_count": 11,
   "id": "5878ef76",
   "metadata": {},
   "outputs": [
    {
     "data": {
      "image/png": "[encoded data removed]",
      "text/plain": [
       "<Figure size 1440x360 with 1 Axes>"
      ]
     },
     "metadata": {
      "needs_background": "light"
     },
     "output_type": "display_data"
    }
   ],
   "source": [
    "#for season 2\n",
    "df_season2=df_rate[df_rate['season']==2]\n",
    "axs,fig=plt.subplots(1,1,figsize=(20,5))\n",
    "plt.subplot(111)\n",
    "sns.countplot(data=df_season2, x= 'avg_rating')\n",
    "plt.xlabel(\"Average Rating for season 2\", size=14) \n",
    "plt.ylabel(\"Count\", size=14)\n",
    "plt.xticks(rotation=0)\n",
    "plt.show()"
   ]
  },
  {
   "cell_type": "code",
   "execution_count": 12,
   "id": "f073bc22",
   "metadata": {},
   "outputs": [
    {
     "data": {
      "image/png": "[encoded data removed]",
      "text/plain": [
       "<Figure size 1440x360 with 1 Axes>"
      ]
     },
     "metadata": {
      "needs_background": "light"
     },
     "output_type": "display_data"
    }
   ],
   "source": [
    "#for season 3\n",
    "df_season3=df_rate[df_rate['season']==3]\n",
    "axs,fig=plt.subplots(1,1,figsize=(20,5))\n",
    "plt.subplot(111)\n",
    "sns.countplot(data=df_season3, x= 'avg_rating')\n",
    "plt.xlabel(\"Average Rating for season 3\", size=14) \n",
    "plt.ylabel(\"Count\", size=14)\n",
    "plt.xticks(rotation=0)\n",
    "plt.show()"
   ]
  },
  {
   "cell_type": "code",
   "execution_count": 13,
   "id": "2fd71f17",
   "metadata": {},
   "outputs": [
    {
     "data": {
      "image/png": "[encoded data removed]",
      "text/plain": [
       "<Figure size 1440x360 with 1 Axes>"
      ]
     },
     "metadata": {
      "needs_background": "light"
     },
     "output_type": "display_data"
    }
   ],
   "source": [
    "#for season 4\n",
    "df_season4=df_rate[df_rate['season']==4]\n",
    "axs,fig=plt.subplots(1,1,figsize=(20,5))\n",
    "plt.subplot(111)\n",
    "sns.countplot(data=df_season4, x= 'avg_rating')\n",
    "plt.xlabel(\"Average Rating for season 4\", size=14) \n",
    "plt.ylabel(\"Count\", size=14)\n",
    "plt.xticks(rotation=0)\n",
    "plt.show()"
   ]
  },
  {
   "cell_type": "code",
   "execution_count": 14,
   "id": "d18f08e9",
   "metadata": {},
   "outputs": [
    {
     "name": "stdout",
     "output_type": "stream",
     "text": [
      "The episode name for all rating above 8.0 for season 1 are: [\"Trompe L'Oeil\" 'The Well-Tempered Clavier' 'The Bicameral Mind']\n"
     ]
    }
   ],
   "source": [
    "#Get all the episode names, whose average rating is more than 8 for every season\n",
    "scheduled_name=df_season1.loc[df_season1['avg_rating']>8,'name']\n",
    "name1=scheduled_name.values\n",
    "print(f'The episode name for all rating above 8.0 for season 1 are: {name1}')"
   ]
  },
  {
   "cell_type": "code",
   "execution_count": 15,
   "id": "ba31a823",
   "metadata": {},
   "outputs": [
    {
     "name": "stdout",
     "output_type": "stream",
     "text": [
      "The episode name for all rating above 8.0 for season 2 are: ['Kiksuya' 'Vanishing Point' 'The Passenger']\n"
     ]
    }
   ],
   "source": [
    "scheduled_name=df_season2.loc[df_season2['avg_rating']>8,'name']\n",
    "name2=scheduled_name.values\n",
    "print(f'The episode name for all rating above 8.0 for season 2 are: {name2}')"
   ]
  },
  {
   "cell_type": "code",
   "execution_count": 16,
   "id": "f407688d",
   "metadata": {},
   "outputs": [
    {
     "name": "stdout",
     "output_type": "stream",
     "text": [
      "The episode name for all rating above 8.0 for season 3 are: []\n"
     ]
    }
   ],
   "source": [
    "scheduled_name=df_season3.loc[df_season3['avg_rating']>8,'name']\n",
    "name3=scheduled_name.values\n",
    "print(f'The episode name for all rating above 8.0 for season 3 are: {name3}')"
   ]
  },
  {
   "cell_type": "code",
   "execution_count": 17,
   "id": "b9a9ed03",
   "metadata": {},
   "outputs": [
    {
     "name": "stdout",
     "output_type": "stream",
     "text": [
      "The episode name for all rating above 8.0 for season 4 are: []\n"
     ]
    }
   ],
   "source": [
    "scheduled_name=df_season4.loc[df_season4['avg_rating']>8,'name']\n",
    "name4=scheduled_name.values\n",
    "print(f'The episode name for all rating above 8.0 for season 4 are: {name4}')"
   ]
  },
  {
   "cell_type": "markdown",
   "id": "f591693d",
   "metadata": {},
   "source": [
    "No episode is consistent for rating above 8 in all season"
   ]
  },
  {
   "cell_type": "code",
   "execution_count": 18,
   "id": "a6e9c660",
   "metadata": {},
   "outputs": [],
   "source": [
    "#Splitting separately for day, year, month\n",
    "df_year=df.copy()\n",
    "dd=[]\n",
    "mm=[]\n",
    "yy=[]\n",
    "for i in df_year['airdate']:\n",
    "    sp=i.split('-')\n",
    "    day=sp[2]\n",
    "    year=sp[0]\n",
    "    month=sp[1]\n",
    "    mm.append(month)\n",
    "    dd.append(day)\n",
    "    yy.append(year)\n",
    "df_year['airdate_day']=dd\n",
    "df_year['airdate_month']=mm\n",
    "df_year['airdate_year']=yy\n",
    "df_year['airdate_year']=df_year['airdate_year'].astype(int)\n",
    "df_year['airdate_month']=df_year['airdate_month'].astype(int)\n",
    "df_year['airdate_day']=df_year['airdate_day'].astype(int)"
   ]
  },
  {
   "cell_type": "code",
   "execution_count": 19,
   "id": "b7e1c4a4",
   "metadata": {},
   "outputs": [
    {
     "data": {
      "text/plain": [
       "2016    10\n",
       "2018    10\n",
       "2020     8\n",
       "2022     8\n",
       "Name: airdate_year, dtype: int64"
      ]
     },
     "execution_count": 19,
     "metadata": {},
     "output_type": "execute_result"
    }
   ],
   "source": [
    "df_year['airdate_year'].value_counts()"
   ]
  },
  {
   "cell_type": "code",
   "execution_count": 20,
   "id": "11721191",
   "metadata": {},
   "outputs": [
    {
     "name": "stdout",
     "output_type": "stream",
     "text": [
      "['Parce Domine' 'The Winter Line' 'The Absence of Field'\n",
      " 'The Mother of Exiles' 'Genre' 'Decoherence' 'Passed Pawn'\n",
      " 'Crisis Theory' 'The Auguries' 'Well Enough Alone' 'Années Folles'\n",
      " 'Generation Loss' 'Zhuangzi' 'Fidelity' 'Metanoia' 'Que Será, Será']\n"
     ]
    }
   ],
   "source": [
    "#Get all the episode names that aired before May 2019\n",
    "year_before=df_year.loc[df_year['airdate_year']>2019]\n",
    "name=year_before['name'].values\n",
    "print(name)"
   ]
  },
  {
   "cell_type": "code",
   "execution_count": 21,
   "id": "ae39e79d",
   "metadata": {},
   "outputs": [
    {
     "data": {
      "image/png": "[encoded data removed]",
      "text/plain": [
       "<Figure size 1440x360 with 1 Axes>"
      ]
     },
     "metadata": {
      "needs_background": "light"
     },
     "output_type": "display_data"
    }
   ],
   "source": [
    "axs,fig=plt.subplots(1,1,figsize=(20,5))\n",
    "plt.subplot(111)\n",
    "sns.barplot(data=year_before, x='airdate_month',y='airdate_year', hue='name')\n",
    "plt.xlabel(\"month\", size=14) \n",
    "plt.ylabel(\"year\", size=14)\n",
    "plt.xticks(rotation=0)\n",
    "plt.show()"
   ]
  },
  {
   "cell_type": "code",
   "execution_count": 22,
   "id": "6adfe367",
   "metadata": {},
   "outputs": [
    {
     "name": "stdout",
     "output_type": "stream",
     "text": [
      "The highest rating for season 1 is/are: ['The Bicameral Mind']\n",
      "The lowest rating for season 1 is/are: ['The Stray']\n"
     ]
    }
   ],
   "source": [
    "#Get the episode name from each season with the highest and lowest rating\n",
    "rat_value=list(df_season1['avg_rating'])\n",
    "rat_value.sort()\n",
    "length=len(rat_value)\n",
    "highest_rating=df_season1.loc[df_season1['avg_rating']==rat_value[length-1],'name']\n",
    "lowest_rating=df_season1.loc[df_season1['avg_rating']==rat_value[0],'name']\n",
    "name1=highest_rating.values\n",
    "name2=lowest_rating.values\n",
    "print(f'The highest rating for season 1 is/are: {name1}')\n",
    "print(f'The lowest rating for season 1 is/are: {name2}')"
   ]
  },
  {
   "cell_type": "code",
   "execution_count": 23,
   "id": "55035d57",
   "metadata": {},
   "outputs": [
    {
     "name": "stdout",
     "output_type": "stream",
     "text": [
      "The highest rating for season 2 is/are: ['Kiksuya']\n",
      "The lowest rating for season 2 is/are: ['Akane No Mai']\n"
     ]
    }
   ],
   "source": [
    "rat_value=list(df_season2['avg_rating'])\n",
    "rat_value.sort()\n",
    "length=len(rat_value)\n",
    "highest_rating=df_season2.loc[df_season2['avg_rating']==rat_value[length-1],'name']\n",
    "lowest_rating=df_season2.loc[df_season2['avg_rating']==rat_value[0],'name']\n",
    "name1=highest_rating.values\n",
    "name2=lowest_rating.values\n",
    "print(f'The highest rating for season 2 is/are: {name1}')\n",
    "print(f'The lowest rating for season 2 is/are: {name2}')"
   ]
  },
  {
   "cell_type": "code",
   "execution_count": 24,
   "id": "0af57627",
   "metadata": {},
   "outputs": [
    {
     "name": "stdout",
     "output_type": "stream",
     "text": [
      "The highest rating for season 3 is/are: ['Parce Domine' 'The Mother of Exiles']\n",
      "The lowest rating for season 3 is/are: ['Decoherence' 'Passed Pawn']\n"
     ]
    }
   ],
   "source": [
    "rat_value=list(df_season3['avg_rating'])\n",
    "rat_value.sort()\n",
    "length=len(rat_value)\n",
    "highest_rating=df_season3.loc[df_season3['avg_rating']==rat_value[length-1],'name']\n",
    "lowest_rating=df_season3.loc[df_season3['avg_rating']==rat_value[0],'name']\n",
    "name1=highest_rating.values\n",
    "name2=lowest_rating.values\n",
    "print(f'The highest rating for season 3 is/are: {name1}')\n",
    "print(f'The lowest rating for season 3 is/are: {name2}')"
   ]
  },
  {
   "cell_type": "code",
   "execution_count": 25,
   "id": "86a282bd",
   "metadata": {},
   "outputs": [
    {
     "name": "stdout",
     "output_type": "stream",
     "text": [
      "The highest rating for season 4 is/are: ['Zhuangzi']\n",
      "The lowest rating for season 4 is/are: ['The Auguries']\n"
     ]
    }
   ],
   "source": [
    "rat_value=list(df_season4['avg_rating'])\n",
    "rat_value.sort()\n",
    "length=len(rat_value)\n",
    "highest_rating=df_season4.loc[df_season4['avg_rating']==rat_value[length-1],'name']\n",
    "lowest_rating=df_season4.loc[df_season4['avg_rating']==rat_value[0],'name']\n",
    "name1=highest_rating.values\n",
    "name2=lowest_rating.values\n",
    "print(f'The highest rating for season 4 is/are: {name1}')\n",
    "print(f'The lowest rating for season 4 is/are: {name2}')"
   ]
  },
  {
   "cell_type": "code",
   "execution_count": 26,
   "id": "46d1b12c",
   "metadata": {},
   "outputs": [
    {
     "data": {
      "image/png": "[encoded data removed]",
      "text/plain": [
       "<Figure size 1440x360 with 1 Axes>"
      ]
     },
     "metadata": {
      "needs_background": "light"
     },
     "output_type": "display_data"
    }
   ],
   "source": [
    "axs,fig=plt.subplots(1,1,figsize=(20,5))\n",
    "plt.subplot(111)\n",
    "sns.barplot(data=df_rate, y= 'avg_rating', x='name',hue='season')\n",
    "plt.xticks(rotation=90)\n",
    "plt.show()"
   ]
  },
  {
   "cell_type": "markdown",
   "id": "aa6c727b",
   "metadata": {},
   "source": [
    "## The rating of all movies are above 7.0. The most popular episode was screened on season 1 and season 2 with average rating above 8.0.\n",
    "The popular movies from season 1 are:'Trompe LÓell','The Well-Tempered Claiver' and 'The Bicameral Mind'.\n",
    "\n",
    "The popular episodes from season 2 are: 'Kaksuya','Vanishing Point' and 'The passenger'"
   ]
  },
  {
   "cell_type": "code",
   "execution_count": null,
   "id": "6cd0391f",
   "metadata": {},
   "outputs": [],
   "source": []
  }
 ],
 "metadata": {
  "kernelspec": {
   "display_name": "Python 3 (ipykernel)",
   "language": "python",
   "name": "python3"
  },
  "language_info": {
   "codemirror_mode": {
    "name": "ipython",
    "version": 3
   },
   "file_extension": ".py",
   "mimetype": "text/x-python",
   "name": "python",
   "nbconvert_exporter": "python",
   "pygments_lexer": "ipython3",
   "version": "3.9.12"
  }
 },
 "nbformat": 4,
 "nbformat_minor": 5
}

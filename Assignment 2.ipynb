{
 "cells": [
  {
   "cell_type": "markdown",
   "id": "3ab6b510",
   "metadata": {},
   "source": [
    "## Question 2: -\n",
    "Consider a string to be valid if all characters of the string appear the same number of times. It is also valid if he can remove just one character at the index in the string, and the remaining characters will occur the same number of times. Given a string, determine if it is valid. If so, return YES , otherwise return NO .\n",
    "\n",
    "Note - You have to write at least 2 additional test cases in which your program will run successfully and provide\n",
    "an explanation for the same."
   ]
  },
  {
   "cell_type": "code",
   "execution_count": 3,
   "id": "96cec7df",
   "metadata": {},
   "outputs": [
    {
     "name": "stdout",
     "output_type": "stream",
     "text": [
      "YES\n",
      "Explanation: All characters appear once, so the string is valid.\n",
      "YES\n",
      "Explanation: The characters a and b appear twice, and the character c appears once. Removing c makes the str valid\n"
     ]
    }
   ],
   "source": [
    "def valid_string(s):\n",
    "    \n",
    "    char_freq = {}\n",
    "    for char in s:\n",
    "        char_freq[char] = char_freq.get(char, 0) + 1\n",
    "\n",
    "    freq_freq = {}\n",
    "    for freq in char_freq.values():\n",
    "        freq_freq[freq] = freq_freq.get(freq, 0) + 1\n",
    "\n",
    "    if len(freq_freq) == 1:\n",
    "        return \"YES\"\n",
    "\n",
    "    if len(freq_freq) > 2:\n",
    "        return \"NO\"\n",
    "\n",
    "    freq_list = list(freq_freq.items())\n",
    "    freq1, count1 = freq_list[0]\n",
    "    freq2, count2 = freq_list[1]\n",
    "\n",
    "    if (freq1 == 1 and count1 == 1) or (freq2 == 1 and count2 == 1):\n",
    "        return \"YES\"\n",
    "    if (freq1 - freq2 == 1 and count1 == 1) or (freq2 - freq1 == 1 and count2 == 1):\n",
    "        return \"YES\"\n",
    "\n",
    "    return \"NO\"\n",
    "\n",
    "\n",
    "# Test case 1\n",
    "s1 = \"abdce\"\n",
    "print(valid_string(s1))\n",
    "print('Explanation: All characters appear once, so the string is valid.')\n",
    "\n",
    "\n",
    "# Test case 2\n",
    "s2 = \"aabbc\"\n",
    "print(valid_string(s2))\n",
    "print('Explanation: The characters a and b appear twice, and the character c appears once. Removing c makes the str valid')"
   ]
  },
  {
   "cell_type": "code",
   "execution_count": null,
   "id": "9b69a092",
   "metadata": {},
   "outputs": [],
   "source": []
  }
 ],
 "metadata": {
  "kernelspec": {
   "display_name": "Python 3 (ipykernel)",
   "language": "python",
   "name": "python3"
  },
  "language_info": {
   "codemirror_mode": {
    "name": "ipython",
    "version": 3
   },
   "file_extension": ".py",
   "mimetype": "text/x-python",
   "name": "python",
   "nbconvert_exporter": "python",
   "pygments_lexer": "ipython3",
   "version": "3.9.12"
  }
 },
 "nbformat": 4,
 "nbformat_minor": 5
}

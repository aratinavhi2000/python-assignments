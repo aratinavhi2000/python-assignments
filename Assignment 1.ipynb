{
 "cells": [
  {
   "cell_type": "markdown",
   "id": "1d0fe12f",
   "metadata": {},
   "source": [
    "## INTERVIEW ASSIGNMENT--Arati Navhi FSDS2.0"
   ]
  },
  {
   "cell_type": "markdown",
   "id": "22f2313b",
   "metadata": {},
   "source": [
    "PYTHON ASSIGNMENT Q1"
   ]
  },
  {
   "cell_type": "markdown",
   "id": "5e5a5a31",
   "metadata": {},
   "source": [
    "## Question 1: "
   ]
  },
  {
   "cell_type": "markdown",
   "id": "a5fea266",
   "metadata": {},
   "source": [
    "Write a program that takes a string as input, and counts the frequency of each word in the string, there might be repeated characters in the string. Your task is to find the highest frequency and returns the length of the highest-frequency word.\n",
    "\n",
    "Note - You have to write at least 2 additional test cases in which your program will run successfully and provide\n",
    "an explanation for the same."
   ]
  },
  {
   "cell_type": "code",
   "execution_count": 4,
   "id": "5c0166c5",
   "metadata": {},
   "outputs": [
    {
     "name": "stdout",
     "output_type": "stream",
     "text": [
      "Test Case 01: 5\n",
      "Explanation: The word \"Mango\" appears thrice, which is the highest frequency. The length of \"Mango\" is 5.\n",
      "Test Case 02: 3\n",
      "Explanation: The word \"the\" appears five times, which is the highest frequency. The length of \"student\" is 7\n"
     ]
    }
   ],
   "source": [
    "def frequency(input_string):\n",
    "    words = input_string.split()\n",
    "\n",
    "    word_freq = {}\n",
    "\n",
    "    for word in words:\n",
    "        word_freq[word] = word_freq.get(word, 0) + 1\n",
    "\n",
    "    max_freq = max(word_freq.values())\n",
    "\n",
    "    max_word_length = max(len(word) for word, freq in word_freq.items() if freq == max_freq)\n",
    "\n",
    "    return max_word_length\n",
    "\n",
    "\n",
    "# Test case 1\n",
    "strn1= \"Apple Mango Orange Mango Guava Guava Mango \"\n",
    "print(f'Test Case 01: {frequency(strn1)}')\n",
    "print('Explanation: The word \"Mango\" appears thrice, which is the highest frequency. The length of \"Mango\" is 5.')\n",
    "\n",
    "# Test case 2\n",
    "strn2 = \"I am am am the the the the the student student\"\n",
    "print(f'Test Case 02: {frequency(strn2)}')\n",
    "print('Explanation: The word \"the\" appears five times, which is the highest frequency. The length of \"student\" is 7')"
   ]
  }
 ],
 "metadata": {
  "kernelspec": {
   "display_name": "Python 3 (ipykernel)",
   "language": "python",
   "name": "python3"
  },
  "language_info": {
   "codemirror_mode": {
    "name": "ipython",
    "version": 3
   },
   "file_extension": ".py",
   "mimetype": "text/x-python",
   "name": "python",
   "nbconvert_exporter": "python",
   "pygments_lexer": "ipython3",
   "version": "3.9.12"
  }
 },
 "nbformat": 4,
 "nbformat_minor": 5
}
